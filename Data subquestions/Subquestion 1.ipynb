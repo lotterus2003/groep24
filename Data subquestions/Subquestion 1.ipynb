{
 "cells": [
  {
   "cell_type": "markdown",
   "id": "2f18ef81",
   "metadata": {},
   "source": [
    "Subquestion 1: Which types of public transport have been affected most from the COVID pandemic? Are there larger changes in certain types of transport than others?\n"
   ]
  },
  {
   "cell_type": "markdown",
   "id": "d1ed1488",
   "metadata": {},
   "source": []
  }
 ],
 "metadata": {
  "language_info": {
   "name": "python"
  }
 },
 "nbformat": 4,
 "nbformat_minor": 5
}
