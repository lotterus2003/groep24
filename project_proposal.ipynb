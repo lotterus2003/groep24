{
 "cells": [
  {
   "cell_type": "markdown",
   "metadata": {},
   "source": [
    "# Project Group - 24\n",
    "\n",
    "Members: \n",
    "\n",
    "Lotte Rus\n",
    "\n",
    "Roos van Kesteren \n",
    "\n",
    "Fabienne Lafeber \n",
    "\n",
    "Bente Degen \n",
    "\n",
    "Step Kruisinga \n",
    "\n"
   ]
  },
  {
   "cell_type": "markdown",
   "metadata": {},
   "source": [
    "# Research Topic\n",
    "\n",
    "Effects of Remote/Hybrid Working on Public Transport Demand Since the COVID-19 Pandemic in the Netherlands "
   ]
  },
  {
   "cell_type": "markdown",
   "metadata": {},
   "source": [
    "# Research Objective\n",
    "\n",
    "*Requires data modeling and quantitative research in Transport, Infrastructure & Logistics*"
   ]
  },
  {
   "cell_type": "markdown",
   "metadata": {},
   "source": [
    "How has the rise of remote/ hybrid working since the COVID-19 pandemic influenced the demand for public transport in the Netherlands?\n",
    "\n",
    "\n",
    "The main objective of this study is to investigate how changes in work behaviour, particularly the rise of remote and hybrid working since the COVID pandemic, have influenced travel behavior and the demand for public transport.\n",
    "\n",
    "Sub-questions:\n",
    "- Which types of public transport have been affected most from the COVID pandemic? Are there larger changes in certain types of transport than others?\n",
    "\n",
    "- What would travel demand in the Netherlands have looked like now if there would not have been a COVID crisis?\n",
    "How has the shift to remote and hybrid working affected peak-hour vs. off-peak demand for public transport?\n"
   ]
  },
  {
   "cell_type": "markdown",
   "metadata": {},
   "source": [
    "# Contribution Statement\n",
    "\n",
    "*Be specific. Some of the tasks can be coding (expect everyone to do this), background research, conceptualisation, visualisation, data analysis, data modelling*"
   ]
  },
  {
   "cell_type": "markdown",
   "metadata": {},
   "source": [
    "For now we look at the data together. We will divide the labor after we receive the feedback."
   ]
  },
  {
   "cell_type": "markdown",
   "metadata": {},
   "source": [
    "# Data Used"
   ]
  },
  {
   "cell_type": "markdown",
   "metadata": {},
   "source": [
    "https://www.google.com/covid19/mobility/\n",
    "\n",
    "https://opendata.cbs.nl/statline/#/CBS/en/dataset/84711 ENG/table?ts=1759130355989 \n",
    "\n",
    "https://www.cbs.nl/nl-nl/longread/rapportages/2023/onderweg-in-nederland--odin---2022-plausibiliteitsrapportage/3-reizigerskilometers \n",
    "\n",
    "https://opendata.cbs.nl/statline/#/CBS/en/dataset/84755ENG/table?ts=1759486423931  \n",
    "\n",
    "https://opendata.cbs.nl/#/CBS/nl/dataset/84702NED/table"
   ]
  },
  {
   "cell_type": "markdown",
   "metadata": {},
   "source": [
    "# Data Pipeline"
   ]
  },
  {
   "cell_type": "markdown",
   "metadata": {},
   "source": [
    "We will collect data from sources like Google mobility reports and CBS. The data will be downloaded as CSV files, imported into Python, and analyzed. Using this data, we will generate graphs and draw conclusions based on the results.\n",
    "\n",
    "Our analysis will cover the period from 2014 to 2024. For subquestion 1, we will use data from 2018 to 2024. The focus here is not on long-term pre-pandemic trends, but on identifying which modes of public transport were most affected by the COVID-19 pandemic and the rise of hybrid working. Therefore, a shorter comparison period around the pandemic is sufficient to capture the key changes in demand.\n",
    "\n",
    "For subquestion 2, we will use data from 2014 to 2019 (prior to the onset of the COVID-19 pandemic at the end of 2019). Based on these historical trends, we will forecast the expected development in the volume of kilometers traveled (per transport type) as if the pandemic had not occurred, and then compare this projected trend with the observed post-2019 data.\n",
    "\n",
    "Subquestion 3, we will answer using data from 2018 to 2024, since earlier data is currently not available (or not found yet). However, if needed we could use insights from the analyses in subquestions 1 and 2, to make informed assumptions about patterns prior to 2018. \n",
    "\n"
   ]
  },
  {
   "cell_type": "markdown",
   "metadata": {},
   "source": []
  }
 ],
 "metadata": {
  "kernelspec": {
   "display_name": "Python 3",
   "language": "python",
   "name": "python3"
  },
  "language_info": {
   "name": "python",
   "version": "3.8.2"
  },
  "orig_nbformat": 4,
  "vscode": {
   "interpreter": {
    "hash": "31f2aee4e71d21fbe5cf8b01ff0e069b9275f58929596ceb00d14d90e3e16cd6"
   }
  }
 },
 "nbformat": 4,
 "nbformat_minor": 2
}
